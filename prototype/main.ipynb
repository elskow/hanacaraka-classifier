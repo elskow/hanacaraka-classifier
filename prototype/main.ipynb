{
 "cells": [
  {
   "cell_type": "code",
   "execution_count": 76,
   "metadata": {},
   "outputs": [],
   "source": [
    "import PIL\n",
    "from PIL import Image\n",
    "import matplotlib.pyplot as plt\n",
    "from PIL import ImageFilter\n",
    "import os\n",
    "import numpy as np\n",
    "from pathlib import Path"
   ]
  },
  {
   "cell_type": "code",
   "execution_count": 77,
   "metadata": {},
   "outputs": [
    {
     "name": "stdout",
     "output_type": "stream",
     "text": [
      "(300, 259, 4)\n"
     ]
    }
   ],
   "source": [
    "im = Image.open(\"./data/hanacaraka/ha/4693335674404368252_base64_5.png\")\n",
    "pix = np.array(im)\n",
    "print(pix.shape)"
   ]
  },
  {
   "cell_type": "code",
   "execution_count": 78,
   "metadata": {},
   "outputs": [],
   "source": [
    "#Resize\n",
    "im = im.resize((512, 512), PIL.Image.LANCZOS)\n",
    "\n",
    "#Grayscale\n",
    "im = im.convert('L')\n",
    "\n",
    "#Threshold\n",
    "threshold=127\n",
    "im = im.point( lambda p: 255 if p > threshold else 0 )\n",
    "\n",
    "#Sharpness\n",
    "im = im.filter(PIL.ImageFilter.SHARPEN)\n",
    "\n",
    "#Dilatation\n",
    "im = im.filter(PIL.ImageFilter.MinFilter(3))\n",
    "\n",
    "im.show()"
   ]
  },
  {
   "cell_type": "code",
   "execution_count": 79,
   "metadata": {},
   "outputs": [],
   "source": [
    "# function\n",
    "def ProcessImage (im):\n",
    "    im = im.resize((512, 512), PIL.Image.LANCZOS)\n",
    "\n",
    "    #Grayscale\n",
    "    im = im.convert('L')\n",
    "\n",
    "    #Threshold\n",
    "    threshold=127\n",
    "    im = im.point( lambda p: 255 if p > threshold else 0 )\n",
    "\n",
    "    #Sharpness\n",
    "    im = im.filter(PIL.ImageFilter.SHARPEN)\n",
    "\n",
    "    #Dilatation\n",
    "    im = im.filter(PIL.ImageFilter.MinFilter(3))\n",
    "    return im"
   ]
  },
  {
   "cell_type": "code",
   "execution_count": 80,
   "metadata": {},
   "outputs": [
    {
     "name": "stdout",
     "output_type": "stream",
     "text": [
      "['ba', 'ca', 'da', 'dha', 'ga', 'ha', 'ja', 'ka', 'la', 'ma', 'na', 'nga', 'nya', 'pa', 'ra', 'sa', 'ta', 'tha', 'wa', 'ya']\n",
      "Error reading file ha/4694803355817399930_base64_5.png\n",
      "Error reading file ja/4694023059412567494_base64_34.png\n",
      "Error reading file la/4695952290615665559_base64_27.png\n",
      "Error reading file nya/4695963539838682931_base64_38.png\n",
      "Error reading file pa/4694579845264951891_base64_30.png\n",
      "Error reading file pa/4696000994938205989_base64_30.png\n",
      "Error reading file ra/4694221966812671068_base64_14.png\n",
      "Error reading file ra/4695660931512476490_base64_14.png\n",
      "Error reading file ra/4695874552811358083_base64_14.png\n",
      "Error reading file ta/4693403521314974166_base64_21.png\n",
      "Error reading file ta/4694044299313201617_base64_21.png\n",
      "Error reading file ta/4694584611982169565_base64_21.png\n",
      "Error reading file tha/4695963539838682931_base64_47.png\n",
      "Error reading file tha/4696273780025212257_base64_47.png\n"
     ]
    }
   ],
   "source": [
    "# Image Processing Pipeline\n",
    "cat = os.listdir('./data/hanacaraka')\n",
    "print(cat)\n",
    "for i in cat :\n",
    "    path  = Path('./data/hanacaraka/' + i)\n",
    "    filenames = list(map(lambda x: x.name, path.glob('*.png')))\n",
    "    os.makedirs('./data/output/' + i, exist_ok=True)\n",
    "    for j in filenames :\n",
    "        try :\n",
    "            im = Image.open('./data/hanacaraka/' + i + '/' + j)\n",
    "        except :\n",
    "            print('Error reading file '+ i+ '/' + j)\n",
    "            continue\n",
    "        im = ProcessImage(im)\n",
    "        im.save('./data/output/' + i + '/' + j)\n",
    "        "
   ]
  }
 ],
 "metadata": {
  "kernelspec": {
   "display_name": "venv",
   "language": "python",
   "name": "python3"
  },
  "language_info": {
   "codemirror_mode": {
    "name": "ipython",
    "version": 3
   },
   "file_extension": ".py",
   "mimetype": "text/x-python",
   "name": "python",
   "nbconvert_exporter": "python",
   "pygments_lexer": "ipython3",
   "version": "3.11.9"
  }
 },
 "nbformat": 4,
 "nbformat_minor": 2
}
