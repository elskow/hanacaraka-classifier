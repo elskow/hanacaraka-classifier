{
 "cells": [
  {
   "cell_type": "code",
   "id": "initial_id",
   "metadata": {
    "collapsed": true,
    "ExecuteTime": {
     "end_time": "2024-05-15T16:34:37.054321Z",
     "start_time": "2024-05-15T16:34:37.035664Z"
    }
   },
   "source": [
    "import os\n",
    "\n",
    "cwd = os.getcwd()\n",
    "\n",
    "if cwd.endswith('prototype'):\n",
    "    PATH = os.path.join('..', 'data', 'handwritten-hanacaraka')\n",
    "    os.chdir(PATH)\n",
    "    new_cwd = os.getcwd()\n",
    "\n",
    "    print(f\"The current working directory was: {cwd}\")\n",
    "    print(f\"It has been changed to: {new_cwd}\")\n",
    "\n",
    "else:\n",
    "    print(f\"The current working directory is: {cwd}\")"
   ],
   "outputs": [
    {
     "name": "stdout",
     "output_type": "stream",
     "text": [
      "The current working directory is: /home/helmyl/hanacaraka-classifier/data/handwritten-hanacaraka\n"
     ]
    }
   ],
   "execution_count": 10
  },
  {
   "metadata": {
    "ExecuteTime": {
     "end_time": "2024-05-15T16:34:37.366928Z",
     "start_time": "2024-05-15T16:34:37.062778Z"
    }
   },
   "cell_type": "code",
   "source": [
    "from PIL import Image\n",
    "\n",
    "subdirs = [d for d in os.listdir() if os.path.isdir(d)]\n",
    "\n",
    "image_files = []\n",
    "for subdir in subdirs:\n",
    "    image_files.extend([os.path.join(subdir, f) for f in os.listdir(subdir) if f.endswith('.png')])\n",
    "\n",
    "print(f'Number of image files: {len(image_files)}\\n')\n",
    "\n",
    "corrupted_files = []\n",
    "for image_file in image_files:\n",
    "    try:\n",
    "        img = Image.open(image_file)\n",
    "    except:\n",
    "        corrupted_files.append(image_file)\n",
    "        \n",
    "print(f'Number of corrupted files: {len(corrupted_files)}\\n')\n",
    "print(f'Corrupted files: {os.linesep.join(corrupted_files)}')"
   ],
   "id": "40dbcd399b90f30d",
   "outputs": [
    {
     "name": "stdout",
     "output_type": "stream",
     "text": [
      "Number of image files: 1579\n",
      "\n",
      "Number of corrupted files: 17\n",
      "\n",
      "Corrupted files: dha/4696038101413220221_base64_32.png\n",
      "dha/4697111846216686148_base64_32.png\n",
      "ga/4696394596413810473_base64_43.png\n",
      "ha/4694803355817399930_base64_5.png\n",
      "ja/4694023059412567494_base64_34.png\n",
      "la/4695952290615665559_base64_27.png\n",
      "nya/4695963539838682931_base64_38.png\n",
      "pa/4694579845264951891_base64_30.png\n",
      "pa/4696000994938205989_base64_30.png\n",
      "ra/4694221966812671068_base64_14.png\n",
      "ra/4695660931512476490_base64_14.png\n",
      "ra/4695874552811358083_base64_14.png\n",
      "ta/4693403521314974166_base64_21.png\n",
      "ta/4694044299313201617_base64_21.png\n",
      "ta/4694584611982169565_base64_21.png\n",
      "tha/4695963539838682931_base64_47.png\n",
      "tha/4696273780025212257_base64_47.png\n"
     ]
    }
   ],
   "execution_count": 11
  },
  {
   "metadata": {
    "ExecuteTime": {
     "end_time": "2024-05-15T16:36:01.404945Z",
     "start_time": "2024-05-15T16:36:00.647864Z"
    }
   },
   "cell_type": "code",
   "source": [
    "import shutil\n",
    "import os\n",
    "\n",
    "new_dir = os.path.join('..', 'renamed_images')\n",
    "\n",
    "for image_file in image_files:\n",
    "    if image_file in corrupted_files:\n",
    "        continue\n",
    "    \n",
    "    subdir, filename = image_file.split('/')\n",
    "    subdir_path = os.path.join(new_dir, subdir)\n",
    "    os.makedirs(subdir_path, exist_ok=True)\n",
    "    new_filename = f'{subdir}_{len(os.listdir(subdir_path)) + 1}.png'\n",
    "    shutil.copy(image_file, os.path.join(subdir_path, new_filename))\n",
    "\n",
    "print(f'number of image files: {len(image_files) - len(corrupted_files)}')"
   ],
   "id": "a05d4b2057da3127",
   "outputs": [
    {
     "name": "stdout",
     "output_type": "stream",
     "text": [
      "number of image files: 1562\n"
     ]
    }
   ],
   "execution_count": 15
  },
  {
   "metadata": {
    "ExecuteTime": {
     "end_time": "2024-05-15T16:34:37.894187Z",
     "start_time": "2024-05-15T16:34:37.892354Z"
    }
   },
   "cell_type": "code",
   "source": "",
   "id": "24b7ec6a90cf2e27",
   "outputs": [],
   "execution_count": 12
  }
 ],
 "metadata": {
  "kernelspec": {
   "display_name": "Python 3",
   "language": "python",
   "name": "python3"
  },
  "language_info": {
   "codemirror_mode": {
    "name": "ipython",
    "version": 2
   },
   "file_extension": ".py",
   "mimetype": "text/x-python",
   "name": "python",
   "nbconvert_exporter": "python",
   "pygments_lexer": "ipython2",
   "version": "2.7.6"
  }
 },
 "nbformat": 4,
 "nbformat_minor": 5
}
